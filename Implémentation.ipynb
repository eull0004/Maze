{
 "cells": [
  {
   "cell_type": "code",
   "execution_count": 2,
   "id": "84dec424",
   "metadata": {},
   "outputs": [],
   "source": [
    "# encoding:utf-8\n",
    "#    _     __  __   _    _______   _                  _   _\n",
    "#   /_\\   |  \\/  | /_\\  |_  / __| (_)_ _    _ __ _  _| |_| |_  ___ _ _\n",
    "#  / _ \\  | |\\/| |/ _ \\  / /| _|  | | ' \\  | '_ \\ || |  _| ' \\/ _ \\ ' \\\n",
    "# /_/ \\_\\ |_|  |_/_/ \\_\\/___|___| |_|_||_| | .__/\\_, |\\__|_||_\\___/_||_|\n",
    "#                                          |_|   |__/\n",
    "# sae@butinfo:~$"
   ]
  },
  {
   "cell_type": "code",
   "execution_count": null,
   "id": "fb3e43be",
   "metadata": {},
   "outputs": [],
   "source": [
    "from Maze import Maze"
   ]
  },
  {
   "cell_type": "code",
   "execution_count": 4,
   "id": "7acebc97",
   "metadata": {},
   "outputs": [
    {
     "ename": "TypeError",
     "evalue": "__init__() missing 1 required positional argument: 'empty'",
     "output_type": "error",
     "traceback": [
      "\u001b[0;31m---------------------------------------------------------------------------\u001b[0m",
      "\u001b[0;31mTypeError\u001b[0m                                 Traceback (most recent call last)",
      "Input \u001b[0;32mIn [4]\u001b[0m, in \u001b[0;36m<module>\u001b[0;34m\u001b[0m\n\u001b[0;32m----> 1\u001b[0m laby \u001b[38;5;241m=\u001b[39m \u001b[43mMaze\u001b[49m\u001b[43m(\u001b[49m\u001b[38;5;241;43m4\u001b[39;49m\u001b[43m,\u001b[49m\u001b[43m \u001b[49m\u001b[38;5;241;43m4\u001b[39;49m\u001b[43m)\u001b[49m\n\u001b[1;32m      2\u001b[0m \u001b[38;5;28mprint\u001b[39m(laby\u001b[38;5;241m.\u001b[39minfo())\n",
      "\u001b[0;31mTypeError\u001b[0m: __init__() missing 1 required positional argument: 'empty'"
     ]
    }
   ],
   "source": [
    "laby = Maze(4, 4, False)\n",
    "print(laby.info())"
   ]
  },
  {
   "cell_type": "code",
   "execution_count": 5,
   "id": "59f74bf3",
   "metadata": {},
   "outputs": [
    {
     "ename": "NameError",
     "evalue": "name 'laby' is not defined",
     "output_type": "error",
     "traceback": [
      "\u001b[0;31m---------------------------------------------------------------------------\u001b[0m",
      "\u001b[0;31mNameError\u001b[0m                                 Traceback (most recent call last)",
      "Input \u001b[0;32mIn [5]\u001b[0m, in \u001b[0;36m<module>\u001b[0;34m\u001b[0m\n\u001b[0;32m----> 1\u001b[0m \u001b[38;5;28mprint\u001b[39m(\u001b[43mlaby\u001b[49m)\n",
      "\u001b[0;31mNameError\u001b[0m: name 'laby' is not defined"
     ]
    }
   ],
   "source": [
    "print(laby)"
   ]
  },
  {
   "cell_type": "code",
   "execution_count": 6,
   "id": "1f275916",
   "metadata": {},
   "outputs": [
    {
     "ename": "NameError",
     "evalue": "name 'laby' is not defined",
     "output_type": "error",
     "traceback": [
      "\u001b[0;31m---------------------------------------------------------------------------\u001b[0m",
      "\u001b[0;31mNameError\u001b[0m                                 Traceback (most recent call last)",
      "Input \u001b[0;32mIn [6]\u001b[0m, in \u001b[0;36m<module>\u001b[0;34m\u001b[0m\n\u001b[0;32m----> 1\u001b[0m \u001b[43mlaby\u001b[49m\u001b[38;5;241m.\u001b[39mneighbors \u001b[38;5;241m=\u001b[39m {\n\u001b[1;32m      2\u001b[0m     (\u001b[38;5;241m0\u001b[39m, \u001b[38;5;241m0\u001b[39m): {(\u001b[38;5;241m1\u001b[39m, \u001b[38;5;241m0\u001b[39m)},\n\u001b[1;32m      3\u001b[0m     (\u001b[38;5;241m0\u001b[39m, \u001b[38;5;241m1\u001b[39m): {(\u001b[38;5;241m0\u001b[39m, \u001b[38;5;241m2\u001b[39m), (\u001b[38;5;241m1\u001b[39m, \u001b[38;5;241m1\u001b[39m)},\n\u001b[1;32m      4\u001b[0m     (\u001b[38;5;241m0\u001b[39m, \u001b[38;5;241m2\u001b[39m): {(\u001b[38;5;241m0\u001b[39m, \u001b[38;5;241m1\u001b[39m), (\u001b[38;5;241m0\u001b[39m, \u001b[38;5;241m3\u001b[39m)},\n\u001b[1;32m      5\u001b[0m     (\u001b[38;5;241m0\u001b[39m, \u001b[38;5;241m3\u001b[39m): {(\u001b[38;5;241m0\u001b[39m, \u001b[38;5;241m2\u001b[39m), (\u001b[38;5;241m1\u001b[39m, \u001b[38;5;241m3\u001b[39m)},\n\u001b[1;32m      6\u001b[0m     (\u001b[38;5;241m1\u001b[39m, \u001b[38;5;241m0\u001b[39m): {(\u001b[38;5;241m2\u001b[39m, \u001b[38;5;241m0\u001b[39m), (\u001b[38;5;241m0\u001b[39m, \u001b[38;5;241m0\u001b[39m)},\n\u001b[1;32m      7\u001b[0m     (\u001b[38;5;241m1\u001b[39m, \u001b[38;5;241m1\u001b[39m): {(\u001b[38;5;241m0\u001b[39m, \u001b[38;5;241m1\u001b[39m), (\u001b[38;5;241m1\u001b[39m, \u001b[38;5;241m2\u001b[39m)},\n\u001b[1;32m      8\u001b[0m     (\u001b[38;5;241m1\u001b[39m, \u001b[38;5;241m2\u001b[39m): {(\u001b[38;5;241m1\u001b[39m, \u001b[38;5;241m1\u001b[39m), (\u001b[38;5;241m2\u001b[39m, \u001b[38;5;241m2\u001b[39m)},\n\u001b[1;32m      9\u001b[0m     (\u001b[38;5;241m1\u001b[39m, \u001b[38;5;241m3\u001b[39m): {(\u001b[38;5;241m2\u001b[39m, \u001b[38;5;241m3\u001b[39m), (\u001b[38;5;241m0\u001b[39m, \u001b[38;5;241m3\u001b[39m)},\n\u001b[1;32m     10\u001b[0m     (\u001b[38;5;241m2\u001b[39m, \u001b[38;5;241m0\u001b[39m): {(\u001b[38;5;241m1\u001b[39m, \u001b[38;5;241m0\u001b[39m), (\u001b[38;5;241m2\u001b[39m, \u001b[38;5;241m1\u001b[39m), (\u001b[38;5;241m3\u001b[39m, \u001b[38;5;241m0\u001b[39m)},\n\u001b[1;32m     11\u001b[0m     (\u001b[38;5;241m2\u001b[39m, \u001b[38;5;241m1\u001b[39m): {(\u001b[38;5;241m2\u001b[39m, \u001b[38;5;241m0\u001b[39m), (\u001b[38;5;241m2\u001b[39m, \u001b[38;5;241m2\u001b[39m)},\n\u001b[1;32m     12\u001b[0m     (\u001b[38;5;241m2\u001b[39m, \u001b[38;5;241m2\u001b[39m): {(\u001b[38;5;241m1\u001b[39m, \u001b[38;5;241m2\u001b[39m), (\u001b[38;5;241m2\u001b[39m, \u001b[38;5;241m1\u001b[39m)},\n\u001b[1;32m     13\u001b[0m     (\u001b[38;5;241m2\u001b[39m, \u001b[38;5;241m3\u001b[39m): {(\u001b[38;5;241m3\u001b[39m, \u001b[38;5;241m3\u001b[39m), (\u001b[38;5;241m1\u001b[39m, \u001b[38;5;241m3\u001b[39m)},\n\u001b[1;32m     14\u001b[0m     (\u001b[38;5;241m3\u001b[39m, \u001b[38;5;241m0\u001b[39m): {(\u001b[38;5;241m3\u001b[39m, \u001b[38;5;241m1\u001b[39m), (\u001b[38;5;241m2\u001b[39m, \u001b[38;5;241m0\u001b[39m)},\n\u001b[1;32m     15\u001b[0m     (\u001b[38;5;241m3\u001b[39m, \u001b[38;5;241m1\u001b[39m): {(\u001b[38;5;241m3\u001b[39m, \u001b[38;5;241m2\u001b[39m), (\u001b[38;5;241m3\u001b[39m, \u001b[38;5;241m0\u001b[39m)},\n\u001b[1;32m     16\u001b[0m     (\u001b[38;5;241m3\u001b[39m, \u001b[38;5;241m2\u001b[39m): {(\u001b[38;5;241m3\u001b[39m, \u001b[38;5;241m1\u001b[39m)},\n\u001b[1;32m     17\u001b[0m     (\u001b[38;5;241m3\u001b[39m, \u001b[38;5;241m3\u001b[39m): {(\u001b[38;5;241m2\u001b[39m, \u001b[38;5;241m3\u001b[39m)}\n\u001b[1;32m     18\u001b[0m }\n\u001b[1;32m     20\u001b[0m \u001b[38;5;28mprint\u001b[39m(laby)\n",
      "\u001b[0;31mNameError\u001b[0m: name 'laby' is not defined"
     ]
    }
   ],
   "source": [
    "laby.neighbors = {\n",
    "    (0, 0): {(1, 0)},\n",
    "    (0, 1): {(0, 2), (1, 1)},\n",
    "    (0, 2): {(0, 1), (0, 3)},\n",
    "    (0, 3): {(0, 2), (1, 3)},\n",
    "    (1, 0): {(2, 0), (0, 0)},\n",
    "    (1, 1): {(0, 1), (1, 2)},\n",
    "    (1, 2): {(1, 1), (2, 2)},\n",
    "    (1, 3): {(2, 3), (0, 3)},\n",
    "    (2, 0): {(1, 0), (2, 1), (3, 0)},\n",
    "    (2, 1): {(2, 0), (2, 2)},\n",
    "    (2, 2): {(1, 2), (2, 1)},\n",
    "    (2, 3): {(3, 3), (1, 3)},\n",
    "    (3, 0): {(3, 1), (2, 0)},\n",
    "    (3, 1): {(3, 2), (3, 0)},\n",
    "    (3, 2): {(3, 1)},\n",
    "    (3, 3): {(2, 3)}\n",
    "}\n",
    "\n",
    "print(laby)"
   ]
  },
  {
   "cell_type": "code",
   "execution_count": 7,
   "id": "81609d77",
   "metadata": {},
   "outputs": [
    {
     "ename": "NameError",
     "evalue": "name 'laby' is not defined",
     "output_type": "error",
     "traceback": [
      "\u001b[0;31m---------------------------------------------------------------------------\u001b[0m",
      "\u001b[0;31mNameError\u001b[0m                                 Traceback (most recent call last)",
      "Input \u001b[0;32mIn [7]\u001b[0m, in \u001b[0;36m<module>\u001b[0;34m\u001b[0m\n\u001b[0;32m----> 1\u001b[0m \u001b[43mlaby\u001b[49m\u001b[38;5;241m.\u001b[39mneighbors[(\u001b[38;5;241m1\u001b[39m,\u001b[38;5;241m3\u001b[39m)]\u001b[38;5;241m.\u001b[39mremove((\u001b[38;5;241m2\u001b[39m,\u001b[38;5;241m3\u001b[39m))\n\u001b[1;32m      2\u001b[0m laby\u001b[38;5;241m.\u001b[39mneighbors[(\u001b[38;5;241m2\u001b[39m,\u001b[38;5;241m3\u001b[39m)]\u001b[38;5;241m.\u001b[39mremove((\u001b[38;5;241m1\u001b[39m,\u001b[38;5;241m3\u001b[39m))\n\u001b[1;32m      3\u001b[0m \u001b[38;5;28mprint\u001b[39m(laby)\n",
      "\u001b[0;31mNameError\u001b[0m: name 'laby' is not defined"
     ]
    }
   ],
   "source": [
    "laby.neighbors[(1,3)].remove((2,3))\n",
    "laby.neighbors[(2,3)].remove((1,3))\n",
    "print(laby)"
   ]
  },
  {
   "cell_type": "code",
   "execution_count": 8,
   "id": "85360a7a",
   "metadata": {},
   "outputs": [
    {
     "ename": "NameError",
     "evalue": "name 'laby' is not defined",
     "output_type": "error",
     "traceback": [
      "\u001b[0;31m---------------------------------------------------------------------------\u001b[0m",
      "\u001b[0;31mNameError\u001b[0m                                 Traceback (most recent call last)",
      "Input \u001b[0;32mIn [8]\u001b[0m, in \u001b[0;36m<module>\u001b[0;34m\u001b[0m\n\u001b[0;32m----> 1\u001b[0m \u001b[43mlaby\u001b[49m\u001b[38;5;241m.\u001b[39mneighbors[(\u001b[38;5;241m1\u001b[39m, \u001b[38;5;241m3\u001b[39m)]\u001b[38;5;241m.\u001b[39madd((\u001b[38;5;241m2\u001b[39m, \u001b[38;5;241m3\u001b[39m))\n\u001b[1;32m      2\u001b[0m laby\u001b[38;5;241m.\u001b[39mneighbors[(\u001b[38;5;241m2\u001b[39m, \u001b[38;5;241m3\u001b[39m)]\u001b[38;5;241m.\u001b[39madd((\u001b[38;5;241m1\u001b[39m, \u001b[38;5;241m3\u001b[39m))\n\u001b[1;32m      3\u001b[0m \u001b[38;5;28mprint\u001b[39m(laby)\n",
      "\u001b[0;31mNameError\u001b[0m: name 'laby' is not defined"
     ]
    }
   ],
   "source": [
    "laby.neighbors[(1, 3)].add((2, 3))\n",
    "laby.neighbors[(2, 3)].add((1, 3))\n",
    "print(laby)"
   ]
  },
  {
   "cell_type": "code",
   "execution_count": 9,
   "id": "b31aba62",
   "metadata": {},
   "outputs": [
    {
     "ename": "NameError",
     "evalue": "name 'laby' is not defined",
     "output_type": "error",
     "traceback": [
      "\u001b[0;31m---------------------------------------------------------------------------\u001b[0m",
      "\u001b[0;31mNameError\u001b[0m                                 Traceback (most recent call last)",
      "Input \u001b[0;32mIn [9]\u001b[0m, in \u001b[0;36m<module>\u001b[0;34m\u001b[0m\n\u001b[0;32m----> 1\u001b[0m \u001b[43mlaby\u001b[49m\u001b[38;5;241m.\u001b[39mneighbors[(\u001b[38;5;241m1\u001b[39m, \u001b[38;5;241m3\u001b[39m)]\u001b[38;5;241m.\u001b[39mremove((\u001b[38;5;241m2\u001b[39m, \u001b[38;5;241m3\u001b[39m))\n\u001b[1;32m      2\u001b[0m \u001b[38;5;28mprint\u001b[39m(laby)\n\u001b[1;32m      3\u001b[0m \u001b[38;5;28mprint\u001b[39m(laby\u001b[38;5;241m.\u001b[39minfo())\n",
      "\u001b[0;31mNameError\u001b[0m: name 'laby' is not defined"
     ]
    }
   ],
   "source": [
    "laby.neighbors[(1, 3)].remove((2, 3))\n",
    "print(laby)\n",
    "print(laby.info())"
   ]
  },
  {
   "cell_type": "code",
   "execution_count": 10,
   "id": "3a497802",
   "metadata": {},
   "outputs": [
    {
     "ename": "NameError",
     "evalue": "name 'laby' is not defined",
     "output_type": "error",
     "traceback": [
      "\u001b[0;31m---------------------------------------------------------------------------\u001b[0m",
      "\u001b[0;31mNameError\u001b[0m                                 Traceback (most recent call last)",
      "Input \u001b[0;32mIn [10]\u001b[0m, in \u001b[0;36m<module>\u001b[0;34m\u001b[0m\n\u001b[0;32m----> 1\u001b[0m \u001b[43mlaby\u001b[49m\u001b[38;5;241m.\u001b[39mneighbors[(\u001b[38;5;241m2\u001b[39m, \u001b[38;5;241m3\u001b[39m)]\u001b[38;5;241m.\u001b[39mremove((\u001b[38;5;241m1\u001b[39m,\u001b[38;5;241m3\u001b[39m))\n",
      "\u001b[0;31mNameError\u001b[0m: name 'laby' is not defined"
     ]
    }
   ],
   "source": [
    "laby.neighbors[(2, 3)].remove((1,3))"
   ]
  },
  {
   "cell_type": "code",
   "execution_count": 11,
   "id": "63d8005e",
   "metadata": {},
   "outputs": [
    {
     "ename": "NameError",
     "evalue": "name 'laby' is not defined",
     "output_type": "error",
     "traceback": [
      "\u001b[0;31m---------------------------------------------------------------------------\u001b[0m",
      "\u001b[0;31mNameError\u001b[0m                                 Traceback (most recent call last)",
      "Input \u001b[0;32mIn [11]\u001b[0m, in \u001b[0;36m<module>\u001b[0;34m\u001b[0m\n\u001b[1;32m      1\u001b[0m c1 \u001b[38;5;241m=\u001b[39m (\u001b[38;5;241m1\u001b[39m, \u001b[38;5;241m3\u001b[39m)\n\u001b[1;32m      2\u001b[0m c2 \u001b[38;5;241m=\u001b[39m (\u001b[38;5;241m2\u001b[39m, \u001b[38;5;241m3\u001b[39m)\n\u001b[0;32m----> 3\u001b[0m \u001b[38;5;28;01mif\u001b[39;00m c1 \u001b[38;5;129;01min\u001b[39;00m \u001b[43mlaby\u001b[49m\u001b[38;5;241m.\u001b[39mneighbors[c2] \u001b[38;5;129;01mand\u001b[39;00m c2 \u001b[38;5;129;01min\u001b[39;00m laby\u001b[38;5;241m.\u001b[39mneighbors[c1]:\n\u001b[1;32m      4\u001b[0m     \u001b[38;5;28mprint\u001b[39m(\u001b[38;5;124mf\u001b[39m\u001b[38;5;124m\"\u001b[39m\u001b[38;5;124mIl n\u001b[39m\u001b[38;5;124m'\u001b[39m\u001b[38;5;124my a pas de mur entre \u001b[39m\u001b[38;5;132;01m{\u001b[39;00mc1\u001b[38;5;132;01m}\u001b[39;00m\u001b[38;5;124m et \u001b[39m\u001b[38;5;132;01m{\u001b[39;00mc2\u001b[38;5;132;01m}\u001b[39;00m\u001b[38;5;124m car elles sont mutuellement voisines\u001b[39m\u001b[38;5;124m\"\u001b[39m)\n\u001b[1;32m      5\u001b[0m \u001b[38;5;28;01melif\u001b[39;00m c1 \u001b[38;5;129;01mnot\u001b[39;00m \u001b[38;5;129;01min\u001b[39;00m laby\u001b[38;5;241m.\u001b[39mneighbors[c2] \u001b[38;5;129;01mand\u001b[39;00m c2 \u001b[38;5;129;01mnot\u001b[39;00m \u001b[38;5;129;01min\u001b[39;00m laby\u001b[38;5;241m.\u001b[39mneighbors[c1]:\n",
      "\u001b[0;31mNameError\u001b[0m: name 'laby' is not defined"
     ]
    }
   ],
   "source": [
    "c1 = (1, 3)\n",
    "c2 = (2, 3)\n",
    "if c1 in laby.neighbors[c2] and c2 in laby.neighbors[c1]:\n",
    "    print(f\"Il n'y a pas de mur entre {c1} et {c2} car elles sont mutuellement voisines\")\n",
    "elif c1 not in laby.neighbors[c2] and c2 not in laby.neighbors[c1]:\n",
    "    print(f\"Il y a un mur entre {c1} et {c2} car {c1} n'est pas dans le voisinage de {c2} et {c2} n'est pas dans le voisinage de {c1}\")\n",
    "else:\n",
    "    print(f\"Il y a une incohérence de réciprocité des voisinages de {c1} et {c2}\")"
   ]
  },
  {
   "cell_type": "code",
   "execution_count": 12,
   "id": "58a611bd",
   "metadata": {},
   "outputs": [
    {
     "ename": "NameError",
     "evalue": "name 'laby' is not defined",
     "output_type": "error",
     "traceback": [
      "\u001b[0;31m---------------------------------------------------------------------------\u001b[0m",
      "\u001b[0;31mNameError\u001b[0m                                 Traceback (most recent call last)",
      "Input \u001b[0;32mIn [12]\u001b[0m, in \u001b[0;36m<module>\u001b[0;34m\u001b[0m\n\u001b[1;32m      1\u001b[0m c1 \u001b[38;5;241m=\u001b[39m (\u001b[38;5;241m1\u001b[39m, \u001b[38;5;241m3\u001b[39m)\n\u001b[1;32m      2\u001b[0m c2 \u001b[38;5;241m=\u001b[39m (\u001b[38;5;241m2\u001b[39m, \u001b[38;5;241m3\u001b[39m)\n\u001b[0;32m----> 3\u001b[0m \u001b[38;5;28;01mif\u001b[39;00m c1 \u001b[38;5;129;01min\u001b[39;00m \u001b[43mlaby\u001b[49m\u001b[38;5;241m.\u001b[39mneighbors[c2] \u001b[38;5;129;01mand\u001b[39;00m c2 \u001b[38;5;129;01min\u001b[39;00m laby\u001b[38;5;241m.\u001b[39mneighbors[c1]:\n\u001b[1;32m      4\u001b[0m     \u001b[38;5;28mprint\u001b[39m(\u001b[38;5;124mf\u001b[39m\u001b[38;5;124m\"\u001b[39m\u001b[38;5;132;01m{\u001b[39;00mc1\u001b[38;5;132;01m}\u001b[39;00m\u001b[38;5;124m est accessible depuis \u001b[39m\u001b[38;5;132;01m{\u001b[39;00mc2\u001b[38;5;132;01m}\u001b[39;00m\u001b[38;5;124m et vice-versa\u001b[39m\u001b[38;5;124m\"\u001b[39m)\n\u001b[1;32m      5\u001b[0m \u001b[38;5;28;01melif\u001b[39;00m c1 \u001b[38;5;129;01mnot\u001b[39;00m \u001b[38;5;129;01min\u001b[39;00m laby\u001b[38;5;241m.\u001b[39mneighbors[c2] \u001b[38;5;129;01mand\u001b[39;00m c2 \u001b[38;5;129;01mnot\u001b[39;00m \u001b[38;5;129;01min\u001b[39;00m laby\u001b[38;5;241m.\u001b[39mneighbors[c1]:\n",
      "\u001b[0;31mNameError\u001b[0m: name 'laby' is not defined"
     ]
    }
   ],
   "source": [
    "c1 = (1, 3)\n",
    "c2 = (2, 3)\n",
    "if c1 in laby.neighbors[c2] and c2 in laby.neighbors[c1]:\n",
    "    print(f\"{c1} est accessible depuis {c2} et vice-versa\")\n",
    "elif c1 not in laby.neighbors[c2] and c2 not in laby.neighbors[c1]:\n",
    "    print(f\"{c1} n'est pas accessible depuis {c2} et vice-versa\")\n",
    "else:\n",
    "    print(f\"Il y a une incohérence de réciprocité des voisinages de {c1} et {c2}\")"
   ]
  },
  {
   "cell_type": "code",
   "execution_count": 13,
   "id": "0b73858b",
   "metadata": {},
   "outputs": [
    {
     "ename": "NameError",
     "evalue": "name 'laby' is not defined",
     "output_type": "error",
     "traceback": [
      "\u001b[0;31m---------------------------------------------------------------------------\u001b[0m",
      "\u001b[0;31mNameError\u001b[0m                                 Traceback (most recent call last)",
      "Input \u001b[0;32mIn [13]\u001b[0m, in \u001b[0;36m<module>\u001b[0;34m\u001b[0m\n\u001b[1;32m      1\u001b[0m L \u001b[38;5;241m=\u001b[39m []\n\u001b[0;32m----> 2\u001b[0m \u001b[38;5;28;01mfor\u001b[39;00m i \u001b[38;5;129;01min\u001b[39;00m \u001b[38;5;28mrange\u001b[39m(\u001b[43mlaby\u001b[49m\u001b[38;5;241m.\u001b[39mheight):\n\u001b[1;32m      3\u001b[0m     \u001b[38;5;28;01mfor\u001b[39;00m j \u001b[38;5;129;01min\u001b[39;00m \u001b[38;5;28mrange\u001b[39m(laby\u001b[38;5;241m.\u001b[39mwidth):\n\u001b[1;32m      4\u001b[0m         L\u001b[38;5;241m.\u001b[39mappend((i,j))\n",
      "\u001b[0;31mNameError\u001b[0m: name 'laby' is not defined"
     ]
    }
   ],
   "source": [
    "L = []\n",
    "for i in range(laby.height):\n",
    "    for j in range(laby.width):\n",
    "        L.append((i,j))\n",
    "print(f\"Liste des cellules : \\n{L}\")"
   ]
  },
  {
   "cell_type": "code",
   "execution_count": 14,
   "id": "296aa85b",
   "metadata": {},
   "outputs": [
    {
     "name": "stdout",
     "output_type": "stream",
     "text": [
      "┏━━━┳━━━┳━━━┳━━━┓\n",
      "┃               ┃\n",
      "┣   ╋   ╋   ╋   ┫\n",
      "┃               ┃\n",
      "┣   ╋   ╋   ╋   ┫\n",
      "┃               ┃\n",
      "┣   ╋   ╋   ╋   ┫\n",
      "┃               ┃\n",
      "┗━━━┻━━━┻━━━┻━━━┛\n",
      "\n"
     ]
    }
   ],
   "source": [
    "laby = Maze(4, 4, empty = True)\n",
    "print(laby)"
   ]
  },
  {
   "cell_type": "code",
   "execution_count": 15,
   "id": "f40d35ca",
   "metadata": {},
   "outputs": [
    {
     "name": "stdout",
     "output_type": "stream",
     "text": [
      "┏━━━┳━━━┳━━━┳━━━┓\n",
      "┃   ┃   ┃   ┃   ┃\n",
      "┣━━━╋━━━╋━━━╋━━━┫\n",
      "┃   ┃   ┃   ┃   ┃\n",
      "┣━━━╋━━━╋━━━╋━━━┫\n",
      "┃   ┃   ┃   ┃   ┃\n",
      "┣━━━╋━━━╋━━━╋━━━┫\n",
      "┃   ┃   ┃   ┃   ┃\n",
      "┗━━━┻━━━┻━━━┻━━━┛\n",
      "\n"
     ]
    }
   ],
   "source": [
    "laby = Maze(4, 4, empty = False)\n",
    "print(laby)"
   ]
  },
  {
   "cell_type": "code",
   "execution_count": null,
   "id": "a6db4d43",
   "metadata": {},
   "outputs": [],
   "source": []
  },
  {
   "cell_type": "code",
   "execution_count": null,
   "id": "bcc266a0",
   "metadata": {},
   "outputs": [],
   "source": []
  },
  {
   "cell_type": "code",
   "execution_count": null,
   "id": "f139d6fe",
   "metadata": {},
   "outputs": [],
   "source": []
  }
 ],
 "metadata": {
  "kernelspec": {
   "display_name": "Python 3 (ipykernel)",
   "language": "python",
   "name": "python3"
  },
  "language_info": {
   "codemirror_mode": {
    "name": "ipython",
    "version": 3
   },
   "file_extension": ".py",
   "mimetype": "text/x-python",
   "name": "python",
   "nbconvert_exporter": "python",
   "pygments_lexer": "ipython3",
   "version": "3.8.10"
  }
 },
 "nbformat": 4,
 "nbformat_minor": 5
}
