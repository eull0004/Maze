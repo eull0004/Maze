{
 "cells": [
  {
   "cell_type": "code",
   "execution_count": 2,
   "id": "9458f164",
   "metadata": {},
   "outputs": [],
   "source": [
    "from Maze import Maze"
   ]
  },
  {
   "cell_type": "markdown",
   "id": "bd855674",
   "metadata": {},
   "source": [
    "# Arbre binaire"
   ]
  },
  {
   "cell_type": "code",
   "execution_count": 3,
   "id": "56bf467f",
   "metadata": {},
   "outputs": [
    {
     "name": "stdout",
     "output_type": "stream",
     "text": [
      "┏━━━┳━━━┳━━━┳━━━┓\n",
      "┃           ┃   ┃\n",
      "┣━━━╋━━━╋   ╋   ┫\n",
      "┃   ┃           ┃\n",
      "┣   ╋━━━╋━━━╋   ┫\n",
      "┃       ┃       ┃\n",
      "┣━━━╋   ╋━━━╋   ┫\n",
      "┃               ┃\n",
      "┗━━━┻━━━┻━━━┻━━━┛\n",
      "\n"
     ]
    }
   ],
   "source": [
    "laby = Maze.gen_btree(4, 4)\n",
    "print(laby)\n"
   ]
  },
  {
   "cell_type": "markdown",
   "id": "597be461",
   "metadata": {},
   "source": [
    "# Sidewinder"
   ]
  },
  {
   "cell_type": "code",
   "execution_count": 5,
   "id": "4fa8ec9b",
   "metadata": {},
   "outputs": [
    {
     "name": "stdout",
     "output_type": "stream",
     "text": [
      "0\n",
      "1\n",
      "2\n",
      "┏━━━┳━━━┳━━━┳━━━┓\n",
      "┃   ┃           ┃\n",
      "┣   ╋   ╋━━━╋━━━┫\n",
      "┃   ┃           ┃\n",
      "┣   ╋━━━╋━━━╋   ┫\n",
      "┃   ┃           ┃\n",
      "┣   ╋   ╋━━━╋━━━┫\n",
      "┃               ┃\n",
      "┗━━━┻━━━┻━━━┻━━━┛\n",
      "\n"
     ]
    }
   ],
   "source": [
    "laby = Maze.gen_sidewinder(4, 4)\n",
    "print(laby)"
   ]
  },
  {
   "cell_type": "code",
   "execution_count": null,
   "id": "4d0e265d",
   "metadata": {},
   "outputs": [],
   "source": []
  }
 ],
 "metadata": {
  "kernelspec": {
   "display_name": "Python 3 (ipykernel)",
   "language": "python",
   "name": "python3"
  },
  "language_info": {
   "codemirror_mode": {
    "name": "ipython",
    "version": 3
   },
   "file_extension": ".py",
   "mimetype": "text/x-python",
   "name": "python",
   "nbconvert_exporter": "python",
   "pygments_lexer": "ipython3",
   "version": "3.8.10"
  }
 },
 "nbformat": 4,
 "nbformat_minor": 5
}
