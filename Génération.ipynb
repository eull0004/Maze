{
 "cells": [
  {
   "cell_type": "code",
   "execution_count": 1,
   "id": "9458f164",
   "metadata": {},
   "outputs": [],
   "source": [
    "from Maze import Maze"
   ]
  },
  {
   "cell_type": "markdown",
   "id": "bd855674",
   "metadata": {},
   "source": [
    "# Arbre binaire"
   ]
  },
  {
   "cell_type": "code",
   "execution_count": 4,
   "id": "56bf467f",
   "metadata": {},
   "outputs": [
    {
     "name": "stdout",
     "output_type": "stream",
     "text": [
      "┏━━━┳━━━┳━━━┳━━━┓\n",
      "┃       ┃   ┃   ┃\n",
      "┣━━━╋   ╋   ╋   ┫\n",
      "┃   ┃   ┃   ┃   ┃\n",
      "┣   ╋   ╋   ╋   ┫\n",
      "┃           ┃   ┃\n",
      "┣━━━╋━━━╋   ╋   ┫\n",
      "┃               ┃\n",
      "┗━━━┻━━━┻━━━┻━━━┛\n",
      "\n"
     ]
    }
   ],
   "source": [
    "laby = Maze.gen_btree(4, 4)\n",
    "print(laby)\n"
   ]
  },
  {
   "cell_type": "markdown",
   "id": "597be461",
   "metadata": {},
   "source": [
    "# Sidewinder"
   ]
  },
  {
   "cell_type": "code",
   "execution_count": 5,
   "id": "4fa8ec9b",
   "metadata": {},
   "outputs": [
    {
     "name": "stdout",
     "output_type": "stream",
     "text": [
      "┏━━━┳━━━┳━━━┳━━━┓\n",
      "┃   ┃   ┃   ┃   ┃\n",
      "┣   ╋   ╋   ╋   ┫\n",
      "┃           ┃   ┃\n",
      "┣━━━╋   ╋━━━╋   ┫\n",
      "┃   ┃           ┃\n",
      "┣   ╋   ╋━━━╋━━━┫\n",
      "┃               ┃\n",
      "┗━━━┻━━━┻━━━┻━━━┛\n",
      "\n"
     ]
    }
   ],
   "source": [
    "laby = Maze.gen_sidewinder(4, 4)\n",
    "print(laby)"
   ]
  },
  {
   "cell_type": "markdown",
   "id": "76301ec3",
   "metadata": {},
   "source": [
    "# Fusion de chemin"
   ]
  },
  {
   "cell_type": "code",
   "execution_count": 6,
   "id": "f0072fd8",
   "metadata": {},
   "outputs": [
    {
     "name": "stdout",
     "output_type": "stream",
     "text": [
      "┏━━━┳━━━┳━━━┳━━━┳━━━┳━━━┳━━━┳━━━┳━━━┳━━━┳━━━┳━━━┳━━━┳━━━┳━━━┓\n",
      "┃       ┃                       ┃                   ┃       ┃\n",
      "┣   ╋━━━╋━━━╋   ╋━━━╋   ╋━━━╋━━━╋━━━╋   ╋━━━╋━━━╋   ╋   ╋━━━┫\n",
      "┃           ┃   ┃       ┃   ┃   ┃   ┃       ┃       ┃   ┃   ┃\n",
      "┣━━━╋━━━╋━━━╋━━━╋━━━╋━━━╋━━━╋   ╋   ╋━━━╋━━━╋   ╋━━━╋   ╋━━━┫\n",
      "┃   ┃                   ┃   ┃       ┃   ┃       ┃       ┃   ┃\n",
      "┣   ╋━━━╋   ╋━━━╋━━━╋   ╋━━━╋━━━╋   ╋━━━╋   ╋━━━╋━━━╋━━━╋━━━┫\n",
      "┃               ┃               ┃   ┃   ┃               ┃   ┃\n",
      "┣   ╋   ╋━━━╋━━━╋   ╋━━━╋━━━╋   ╋   ╋   ╋   ╋━━━╋   ╋━━━╋   ┫\n",
      "┃   ┃   ┃   ┃               ┃       ┃       ┃               ┃\n",
      "┣   ╋━━━╋━━━╋━━━╋━━━╋   ╋   ╋   ╋   ╋   ╋   ╋━━━╋━━━╋━━━╋━━━┫\n",
      "┃           ┃           ┃   ┃   ┃       ┃   ┃   ┃           ┃\n",
      "┣   ╋━━━╋   ╋━━━╋━━━╋━━━╋━━━╋━━━╋   ╋━━━╋   ╋━━━╋   ╋━━━╋━━━┫\n",
      "┃   ┃           ┃   ┃                   ┃       ┃           ┃\n",
      "┣   ╋━━━╋   ╋   ╋━━━╋━━━╋━━━╋━━━╋   ╋━━━╋━━━╋   ╋━━━╋   ╋━━━┫\n",
      "┃   ┃   ┃   ┃   ┃   ┃               ┃   ┃           ┃   ┃   ┃\n",
      "┣━━━╋━━━╋━━━╋━━━╋━━━╋━━━╋   ╋   ╋   ╋━━━╋   ╋   ╋━━━╋   ╋   ┫\n",
      "┃   ┃               ┃       ┃   ┃       ┃   ┃   ┃           ┃\n",
      "┣   ╋━━━╋━━━╋   ╋━━━╋   ╋━━━╋━━━╋━━━╋━━━╋━━━╋   ╋   ╋   ╋━━━┫\n",
      "┃   ┃               ┃                   ┃   ┃   ┃   ┃       ┃\n",
      "┣━━━╋   ╋   ╋━━━╋━━━╋━━━╋   ╋━━━╋━━━╋   ╋   ╋   ╋   ╋   ╋━━━┫\n",
      "┃   ┃   ┃       ┃           ┃               ┃   ┃   ┃       ┃\n",
      "┣   ╋   ╋━━━╋━━━╋   ╋━━━╋   ╋━━━╋   ╋   ╋━━━╋━━━╋   ╋━━━╋━━━┫\n",
      "┃       ┃       ┃   ┃   ┃   ┃       ┃       ┃   ┃           ┃\n",
      "┣━━━╋   ╋━━━╋━━━╋   ╋   ╋━━━╋━━━╋   ╋━━━╋   ╋━━━╋   ╋━━━╋━━━┫\n",
      "┃           ┃       ┃               ┃       ┃   ┃       ┃   ┃\n",
      "┣━━━╋━━━╋   ╋   ╋━━━╋━━━╋━━━╋━━━╋━━━╋━━━╋   ╋━━━╋   ╋━━━╋   ┫\n",
      "┃       ┃           ┃       ┃   ┃       ┃       ┃   ┃   ┃   ┃\n",
      "┣   ╋   ╋━━━╋   ╋   ╋   ╋━━━╋   ╋   ╋━━━╋   ╋   ╋   ╋━━━╋   ┫\n",
      "┃   ┃           ┃           ┃               ┃       ┃   ┃   ┃\n",
      "┗━━━┻━━━┻━━━┻━━━┻━━━┻━━━┻━━━┻━━━┻━━━┻━━━┻━━━┻━━━┻━━━┻━━━┻━━━┛\n",
      "\n"
     ]
    }
   ],
   "source": [
    "laby = Maze.gen_fusion(15,15)\n",
    "print(laby)"
   ]
  },
  {
   "cell_type": "markdown",
   "id": "6936d2bf",
   "metadata": {},
   "source": [
    "# Exploration Exhaustive"
   ]
  },
  {
   "cell_type": "code",
   "execution_count": null,
   "id": "672f8511",
   "metadata": {},
   "outputs": [],
   "source": [
    "laby = Maze.gen_exploration(15,15)\n",
    "print(laby)"
   ]
  },
  {
   "cell_type": "markdown",
   "id": "d636a1bb",
   "metadata": {},
   "source": [
    "# Algorithme de Wilson"
   ]
  },
  {
   "cell_type": "code",
   "execution_count": null,
   "id": "b97d400b",
   "metadata": {},
   "outputs": [],
   "source": [
    "laby = Maze.gen_wilson(12, 12)\n",
    "print(laby)"
   ]
  },
  {
   "cell_type": "code",
   "execution_count": null,
   "id": "6688000d",
   "metadata": {},
   "outputs": [],
   "source": []
  }
 ],
 "metadata": {
  "kernelspec": {
   "display_name": "Python 3 (ipykernel)",
   "language": "python",
   "name": "python3"
  },
  "language_info": {
   "codemirror_mode": {
    "name": "ipython",
    "version": 3
   },
   "file_extension": ".py",
   "mimetype": "text/x-python",
   "name": "python",
   "nbconvert_exporter": "python",
   "pygments_lexer": "ipython3",
   "version": "3.8.10"
  }
 },
 "nbformat": 4,
 "nbformat_minor": 5
}
